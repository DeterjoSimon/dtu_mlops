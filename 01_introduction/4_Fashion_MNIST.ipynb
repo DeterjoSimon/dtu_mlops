{
 "cells": [
  {
   "cell_type": "markdown",
   "metadata": {},
   "source": [
    "# Classifying Fashion-MNIST\n",
    "\n",
    "Now it's your turn to build and train a neural network. You'll be using the [Fashion-MNIST dataset](https://github.com/zalandoresearch/fashion-mnist), a drop-in replacement for the MNIST dataset. MNIST is actually quite trivial with neural networks where you can easily achieve better than 97% accuracy. Fashion-MNIST is a set of 28x28 greyscale images of clothes. It's more complex than MNIST, so it's a better representation of the actual performance of your network, and a better representation of datasets you'll use in the real world.\n",
    "\n",
    "<img src='assets/fashion-mnist-sprite.png' width=500px>\n",
    "\n",
    "In this notebook, you'll build your own neural network. For the most part, you could just copy and paste the code from Part 3, but you wouldn't be learning. It's important for you to write the code yourself and get it to work. Feel free to consult the previous notebooks though as you work through this.\n",
    "\n",
    "First off, let's load the dataset through torchvision."
   ]
  },
  {
   "cell_type": "code",
   "execution_count": 1,
   "metadata": {},
   "outputs": [],
   "source": [
    "import torch\n",
    "from torchvision import datasets, transforms\n",
    "import helper\n",
    "\n",
    "# Define a transform to normalize the data\n",
    "transform = transforms.Compose([transforms.ToTensor(),\n",
    "                                transforms.Normalize((0.5,), (0.5,))])\n",
    "# Download and load the training data\n",
    "trainset = datasets.FashionMNIST('~/.pytorch/F_MNIST_data/', download=True, train=True, transform=transform)\n",
    "trainloader = torch.utils.data.DataLoader(trainset, batch_size=64, shuffle=True)\n",
    "\n",
    "# Download and load the test data\n",
    "testset = datasets.FashionMNIST('~/.pytorch/F_MNIST_data/', download=True, train=False, transform=transform)\n",
    "testloader = torch.utils.data.DataLoader(testset, batch_size=64, shuffle=True)"
   ]
  },
  {
   "cell_type": "markdown",
   "metadata": {},
   "source": [
    "Here we can see one of the images."
   ]
  },
  {
   "cell_type": "code",
   "execution_count": 2,
   "metadata": {},
   "outputs": [
    {
     "output_type": "display_data",
     "data": {
      "text/plain": "<Figure size 432x288 with 1 Axes>",
      "image/svg+xml": "<?xml version=\"1.0\" encoding=\"utf-8\" standalone=\"no\"?>\r\n<!DOCTYPE svg PUBLIC \"-//W3C//DTD SVG 1.1//EN\"\r\n  \"http://www.w3.org/Graphics/SVG/1.1/DTD/svg11.dtd\">\r\n<!-- Created with matplotlib (https://matplotlib.org/) -->\r\n<svg height=\"231.84pt\" version=\"1.1\" viewBox=\"0 0 231.84 231.84\" width=\"231.84pt\" xmlns=\"http://www.w3.org/2000/svg\" xmlns:xlink=\"http://www.w3.org/1999/xlink\">\r\n <metadata>\r\n  <rdf:RDF xmlns:cc=\"http://creativecommons.org/ns#\" xmlns:dc=\"http://purl.org/dc/elements/1.1/\" xmlns:rdf=\"http://www.w3.org/1999/02/22-rdf-syntax-ns#\">\r\n   <cc:Work>\r\n    <dc:type rdf:resource=\"http://purl.org/dc/dcmitype/StillImage\"/>\r\n    <dc:date>2021-06-07T22:00:46.020834</dc:date>\r\n    <dc:format>image/svg+xml</dc:format>\r\n    <dc:creator>\r\n     <cc:Agent>\r\n      <dc:title>Matplotlib v3.3.4, https://matplotlib.org/</dc:title>\r\n     </cc:Agent>\r\n    </dc:creator>\r\n   </cc:Work>\r\n  </rdf:RDF>\r\n </metadata>\r\n <defs>\r\n  <style type=\"text/css\">*{stroke-linecap:butt;stroke-linejoin:round;}</style>\r\n </defs>\r\n <g id=\"figure_1\">\r\n  <g id=\"patch_1\">\r\n   <path d=\"M 0 231.84 \r\nL 231.84 231.84 \r\nL 231.84 0 \r\nL 0 0 \r\nz\r\n\" style=\"fill:none;\"/>\r\n  </g>\r\n  <g id=\"axes_1\">\r\n   <g id=\"patch_2\">\r\n    <path d=\"M 7.2 224.64 \r\nL 224.64 224.64 \r\nL 224.64 7.2 \r\nL 7.2 7.2 \r\nz\r\n\" style=\"fill:#ffffff;\"/>\r\n   </g>\r\n   <g clip-path=\"url(#p95bd967bd4)\">\r\n    <image height=\"218\" id=\"image417740f5b9\" transform=\"scale(1 -1)translate(0 -218)\" width=\"218\" x=\"7.2\" xlink:href=\"data:image/png;base64,\r\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\" y=\"-6.64\"/>\r\n   </g>\r\n   <g id=\"matplotlib.axis_1\">\r\n    <g id=\"xtick_1\">\r\n     <g id=\"line2d_1\"/>\r\n    </g>\r\n    <g id=\"xtick_2\">\r\n     <g id=\"line2d_2\"/>\r\n    </g>\r\n    <g id=\"xtick_3\">\r\n     <g id=\"line2d_3\"/>\r\n    </g>\r\n    <g id=\"xtick_4\">\r\n     <g id=\"line2d_4\"/>\r\n    </g>\r\n    <g id=\"xtick_5\">\r\n     <g id=\"line2d_5\"/>\r\n    </g>\r\n    <g id=\"xtick_6\">\r\n     <g id=\"line2d_6\"/>\r\n    </g>\r\n   </g>\r\n   <g id=\"matplotlib.axis_2\">\r\n    <g id=\"ytick_1\">\r\n     <g id=\"line2d_7\"/>\r\n    </g>\r\n    <g id=\"ytick_2\">\r\n     <g id=\"line2d_8\"/>\r\n    </g>\r\n    <g id=\"ytick_3\">\r\n     <g id=\"line2d_9\"/>\r\n    </g>\r\n    <g id=\"ytick_4\">\r\n     <g id=\"line2d_10\"/>\r\n    </g>\r\n    <g id=\"ytick_5\">\r\n     <g id=\"line2d_11\"/>\r\n    </g>\r\n    <g id=\"ytick_6\">\r\n     <g id=\"line2d_12\"/>\r\n    </g>\r\n   </g>\r\n  </g>\r\n </g>\r\n <defs>\r\n  <clipPath id=\"p95bd967bd4\">\r\n   <rect height=\"217.44\" width=\"217.44\" x=\"7.2\" y=\"7.2\"/>\r\n  </clipPath>\r\n </defs>\r\n</svg>\r\n",
      "image/png": "[encoded data removed]"
     },
     "metadata": {
      "needs_background": "light"
     }
    }
   ],
   "source": [
    "image, label = next(iter(trainloader))\n",
    "import os    \n",
    "os.environ['KMP_DUPLICATE_LIB_OK']='True'\n",
    "helper.imshow(image[0,:]);"
   ]
  },
  {
   "cell_type": "markdown",
   "metadata": {},
   "source": [
    "## Building the network\n",
    "\n",
    "Here you should define your network. As with MNIST, each image is 28x28 which is a total of 784 pixels, and there are 10 classes. You should include at least one hidden layer. We suggest you use ReLU activations for the layers and to return the logits or log-softmax from the forward pass. It's up to you how many layers you add and the size of those layers."
   ]
  },
  {
   "cell_type": "code",
   "execution_count": 3,
   "metadata": {},
   "outputs": [],
   "source": [
    "# TODO: Define your network architecture here\n",
    "import torch\n",
    "from torch import nn\n",
    "import torch.nn.functional as F\n",
    "\n",
    "model = nn.Sequential(nn.Linear(784,256),\n",
    "                        nn.ReLU(),\n",
    "                        nn.Linear(256,128),\n",
    "                        nn.ReLU(),\n",
    "                        nn.Linear(128,64),\n",
    "                        nn.ReLU(),\n",
    "                        nn.Linear(64,10),\n",
    "                        nn.LogSoftmax(dim=1))\n",
    "\n"
   ]
  },
  {
   "cell_type": "markdown",
   "metadata": {},
   "source": [
    "# Train the network\n",
    "\n",
    "Now you should create your network and train it. First you'll want to define [the criterion](http://pytorch.org/docs/master/nn.html#loss-functions) ( something like `nn.CrossEntropyLoss`) and [the optimizer](http://pytorch.org/docs/master/optim.html) (typically `optim.SGD` or `optim.Adam`).\n",
    "\n",
    "Then write the training code. Remember the training pass is a fairly straightforward process:\n",
    "\n",
    "* Make a forward pass through the network to get the logits \n",
    "* Use the logits to calculate the loss\n",
    "* Perform a backward pass through the network with `loss.backward()` to calculate the gradients\n",
    "* Take a step with the optimizer to update the weights\n",
    "\n",
    "By adjusting the hyperparameters (hidden units, learning rate, etc), you should be able to get the training loss below 0.4."
   ]
  },
  {
   "cell_type": "code",
   "execution_count": 4,
   "metadata": {},
   "outputs": [],
   "source": [
    "# TODO: Create the network, define the criterion and optimizer\n",
    "from torch import optim\n",
    "criterion = nn.NLLLoss()\n",
    "optimizer = optim.SGD(model.parameters(),lr=0.03)"
   ]
  },
  {
   "cell_type": "code",
   "execution_count": 5,
   "metadata": {},
   "outputs": [
    {
     "output_type": "stream",
     "name": "stderr",
     "text": [
      "100%|██████████| 938/938 [00:13<00:00, 67.94it/s]\n",
      "  1%|          | 7/938 [00:00<00:13, 68.90it/s]Training loss: 0.8728101169313195\n",
      "100%|██████████| 938/938 [00:14<00:00, 66.46it/s]\n",
      "  1%|          | 5/938 [00:00<00:19, 48.73it/s]Training loss: 0.48674607327752023\n",
      "100%|██████████| 938/938 [00:22<00:00, 41.55it/s]\n",
      "  0%|          | 4/938 [00:00<00:24, 38.03it/s]Training loss: 0.4238747300337881\n",
      "100%|██████████| 938/938 [00:29<00:00, 32.11it/s]\n",
      "  0%|          | 3/938 [00:00<00:31, 29.76it/s]Training loss: 0.38739134455477\n",
      "100%|██████████| 938/938 [00:29<00:00, 32.21it/s]Training loss: 0.3601469076804515\n",
      "\n"
     ]
    }
   ],
   "source": [
    "# TODO: Train the network here\n",
    "epoch = 5\n",
    "from tqdm import tqdm\n",
    "\n",
    "for e in range(epoch):\n",
    "    running_loss = 0\n",
    "    \n",
    "    for images, labels in tqdm(trainloader):\n",
    "        \n",
    "        images = images.view(images.shape[0],-1)\n",
    "\n",
    "        out = model(images)\n",
    "        optimizer.zero_grad()\n",
    "        loss = criterion(out, labels)\n",
    "        loss.backward()\n",
    "        optimizer.step()\n",
    "        \n",
    "        running_loss += loss.item()\n",
    "    else:\n",
    "        print(f\"Training loss: {running_loss/len(trainloader)}\")"
   ]
  },
  {
   "cell_type": "code",
   "execution_count": 7,
   "metadata": {},
   "outputs": [
    {
     "output_type": "display_data",
     "data": {
      "text/plain": "<Figure size 432x648 with 2 Axes>",
      "image/png": "[encoded data removed]"
     },
     "metadata": {
      "image/png": {
       "width": 424,
       "height": 216
      },
      "needs_background": "light"
     }
    }
   ],
   "source": [
    "%matplotlib inline\n",
    "%config InlineBackend.figure_format = 'retina'\n",
    "\n",
    "import helper\n",
    "\n",
    "# Test out your network!\n",
    "\n",
    "dataiter = iter(testloader)\n",
    "images, labels = dataiter.next()\n",
    "img = images[0]\n",
    "# Convert 2D image to 1D vector\n",
    "img = img.resize_(1, 784)\n",
    "\n",
    "# TODO: Calculate the class probabilities (softmax) for img\n",
    "ps = torch.exp(model(img))\n",
    "\n",
    "# Plot the image and probabilities\n",
    "helper.view_classify(img.resize_(1, 28, 28), ps, version='Fashion')"
   ]
  },
  {
   "cell_type": "code",
   "execution_count": null,
   "metadata": {},
   "outputs": [],
   "source": []
  }
 ],
 "metadata": {
  "kernelspec": {
   "name": "python388jvsc74a57bd0a1358dd76780d095825359a29754cdf9ec92f055ea13f5a23375bfaaabb1e58e",
   "display_name": "Python 3.8.8 64-bit ('base': conda)"
  },
  "language_info": {
   "codemirror_mode": {
    "name": "ipython",
    "version": 3
   },
   "file_extension": ".py",
   "mimetype": "text/x-python",
   "name": "python",
   "nbconvert_exporter": "python",
   "pygments_lexer": "ipython3",
   "version": "3.8.8"
  }
 },
 "nbformat": 4,
 "nbformat_minor": 2
}